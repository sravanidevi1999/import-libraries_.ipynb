{
  "nbformat": 4,
  "nbformat_minor": 0,
  "metadata": {
    "colab": {
      "name": "Diabetic retinopathy .ipynb",
      "provenance": [],
      "collapsed_sections": []
    },
    "kernelspec": {
      "name": "python3",
      "display_name": "Python 3"
    }
  },
  "cells": [
    {
      "cell_type": "code",
      "metadata": {
        "id": "PCQmH1J0LxmD",
        "colab_type": "code",
        "colab": {}
      },
      "source": [
        "#importing the libraries\n",
        "from keras.models import Sequential\n",
        "from keras.layers import Dense\n",
        "from keras.layers import Conv2D\n",
        "from keras.layers import MaxPooling2D\n",
        "from keras.layers import Flatten"
      ],
      "execution_count": 0,
      "outputs": []
    },
    {
      "cell_type": "code",
      "metadata": {
        "id": "2yX-unRCN5zg",
        "colab_type": "code",
        "colab": {}
      },
      "source": [
        "#intializing the model\n",
        "model=Sequential()"
      ],
      "execution_count": 0,
      "outputs": []
    },
    {
      "cell_type": "code",
      "metadata": {
        "id": "XftHQCjNwZDc",
        "colab_type": "code",
        "colab": {}
      },
      "source": [
        "# Add Convolution Layer\n",
        "model.add(Conv2D(32,(3,3),input_shape=(64,64,3),activation=\"relu\"))"
      ],
      "execution_count": 0,
      "outputs": []
    },
    {
      "cell_type": "code",
      "metadata": {
        "id": "9wVcpnfWwcsn",
        "colab_type": "code",
        "colab": {}
      },
      "source": [
        "#Add Pooling Layer\n",
        "model.add(MaxPooling2D(pool_size = (2, 2)))"
      ],
      "execution_count": 0,
      "outputs": []
    },
    {
      "cell_type": "code",
      "metadata": {
        "id": "JQSBf8t5wfrQ",
        "colab_type": "code",
        "colab": {}
      },
      "source": [
        "#Add Flattening Layer\n",
        "model.add(Flatten())"
      ],
      "execution_count": 0,
      "outputs": []
    },
    {
      "cell_type": "code",
      "metadata": {
        "id": "yeCmNfP3y0ZX",
        "colab_type": "code",
        "colab": {
          "base_uri": "https://localhost:8080/",
          "height": 71
        },
        "outputId": "36dd608c-c188-4ceb-b7b1-1ecd52ca9960"
      },
      "source": [
        "#Add Hidden Layer\n",
        "model.add(Dense(init=\"random_uniform\",activation=\"relu\",output_dim=150))"
      ],
      "execution_count": 32,
      "outputs": [
        {
          "output_type": "stream",
          "text": [
            "/usr/local/lib/python3.6/dist-packages/ipykernel_launcher.py:2: UserWarning: Update your `Dense` call to the Keras 2 API: `Dense(activation=\"relu\", units=150, kernel_initializer=\"random_uniform\")`\n",
            "  \n"
          ],
          "name": "stderr"
        }
      ]
    },
    {
      "cell_type": "code",
      "metadata": {
        "id": "6NTBMZ_oy46B",
        "colab_type": "code",
        "colab": {
          "base_uri": "https://localhost:8080/",
          "height": 71
        },
        "outputId": "ffacb7bb-6b10-4ed6-bcdf-63e60a2c12ec"
      },
      "source": [
        "#Add Output layer\n",
        "model.add(Dense(init=\"random_uniform\",activation=\"softmax\",output_dim=5))"
      ],
      "execution_count": 33,
      "outputs": [
        {
          "output_type": "stream",
          "text": [
            "/usr/local/lib/python3.6/dist-packages/ipykernel_launcher.py:2: UserWarning: Update your `Dense` call to the Keras 2 API: `Dense(activation=\"softmax\", units=5, kernel_initializer=\"random_uniform\")`\n",
            "  \n"
          ],
          "name": "stderr"
        }
      ]
    },
    {
      "cell_type": "code",
      "metadata": {
        "id": "ap1DGxOKZt64",
        "colab_type": "code",
        "colab": {}
      },
      "source": [
        "#Compile the model\n",
        "model.compile(loss=\"categorical_crossentropy\",optimizer=\"sgd\",metrics=[\"accuracy\"])"
      ],
      "execution_count": 0,
      "outputs": []
    },
    {
      "cell_type": "code",
      "metadata": {
        "id": "kx6K7bRCbn_3",
        "colab_type": "code",
        "colab": {}
      },
      "source": [
        "from keras.preprocessing.image import ImageDataGenerator\n",
        "\n",
        "train_datagen = ImageDataGenerator(rescale = 1./255,\n",
        "                                   shear_range = 0.2,\n",
        "                                   zoom_range = 0.2,\n",
        "                                   horizontal_flip = True)\n",
        "\n",
        "test_datagen = ImageDataGenerator(rescale = 1./255)"
      ],
      "execution_count": 0,
      "outputs": []
    },
    {
      "cell_type": "code",
      "metadata": {
        "id": "9HM8X_A1b2ep",
        "colab_type": "code",
        "outputId": "4ef584a1-2736-48c6-8ad3-84d879cd9a75",
        "colab": {
          "base_uri": "https://localhost:8080/",
          "height": 51
        }
      },
      "source": [
        "x_train = train_datagen.flow_from_directory('/content/drive/My Drive/Data set/testing set/Testing set',\n",
        "                                                 target_size = (64, 64),\n",
        "                                                 batch_size = 32,\n",
        "                                                     class_mode = 'categorical')\n",
        "x_test = test_datagen.flow_from_directory('/content/drive/My Drive/Data set/training set/Training set',\n",
        "                                            target_size = (64, 64),\n",
        "                                            batch_size = 32,\n",
        "                                            class_mode = 'categorical')\n",
        "\n"
      ],
      "execution_count": 23,
      "outputs": [
        {
          "output_type": "stream",
          "text": [
            "Found 29 images belonging to 5 classes.\n",
            "Found 64 images belonging to 5 classes.\n"
          ],
          "name": "stdout"
        }
      ]
    },
    {
      "cell_type": "code",
      "metadata": {
        "id": "kSgrnsjEc8dK",
        "colab_type": "code",
        "outputId": "5c5b197d-4843-4c53-e2f9-93ed6d6c17c5",
        "colab": {
          "base_uri": "https://localhost:8080/",
          "height": 34
        }
      },
      "source": [
        "print(x_train.class_indices)"
      ],
      "execution_count": 24,
      "outputs": [
        {
          "output_type": "stream",
          "text": [
            "{'level 0': 0, 'level 1': 1, 'level 2': 2, 'level 3': 3, 'level 4': 4}\n"
          ],
          "name": "stdout"
        }
      ]
    },
    {
      "cell_type": "code",
      "metadata": {
        "id": "6lCJVqfDvsp9",
        "colab_type": "code",
        "outputId": "204ffcd5-7266-4647-f4cb-5897d50c9a21",
        "colab": {
          "base_uri": "https://localhost:8080/",
          "height": 734
        }
      },
      "source": [
        "# model.fit_generator(x_train,samples_per_epoch = 80,epochs=25,validation_data=x_test,nb_val_samples=90)\n",
        "model.fit_generator(x_train,\n",
        "                          steps_per_epoch = 100,\n",
        "                          epochs = 20,\n",
        "                        validation_data = x_test,\n",
        "                          validation_steps = 63)"
      ],
      "execution_count": 38,
      "outputs": [
        {
          "output_type": "stream",
          "text": [
            "Epoch 1/20\n",
            "100/100 [==============================] - 35s 348ms/step - loss: 0.0615 - accuracy: 0.9662 - val_loss: 5.3314 - val_accuracy: 0.3750\n",
            "Epoch 2/20\n",
            "100/100 [==============================] - 35s 348ms/step - loss: 0.0600 - accuracy: 0.9638 - val_loss: 4.0660 - val_accuracy: 0.3750\n",
            "Epoch 3/20\n",
            "100/100 [==============================] - 35s 346ms/step - loss: 0.0604 - accuracy: 0.9659 - val_loss: 6.0849 - val_accuracy: 0.3725\n",
            "Epoch 4/20\n",
            "100/100 [==============================] - 40s 396ms/step - loss: 0.0617 - accuracy: 0.9672 - val_loss: 4.8143 - val_accuracy: 0.4087\n",
            "Epoch 5/20\n",
            "100/100 [==============================] - 35s 347ms/step - loss: 0.0587 - accuracy: 0.9634 - val_loss: 5.5076 - val_accuracy: 0.3765\n",
            "Epoch 6/20\n",
            "100/100 [==============================] - 35s 351ms/step - loss: 0.0603 - accuracy: 0.9645 - val_loss: 5.7167 - val_accuracy: 0.3576\n",
            "Epoch 7/20\n",
            "100/100 [==============================] - 35s 347ms/step - loss: 0.0589 - accuracy: 0.9659 - val_loss: 6.2009 - val_accuracy: 0.3581\n",
            "Epoch 8/20\n",
            "100/100 [==============================] - 35s 347ms/step - loss: 0.0592 - accuracy: 0.9659 - val_loss: 4.6479 - val_accuracy: 0.3606\n",
            "Epoch 9/20\n",
            "100/100 [==============================] - 34s 345ms/step - loss: 0.0579 - accuracy: 0.9645 - val_loss: 7.2477 - val_accuracy: 0.3581\n",
            "Epoch 10/20\n",
            "100/100 [==============================] - 35s 346ms/step - loss: 0.0573 - accuracy: 0.9669 - val_loss: 4.1646 - val_accuracy: 0.3606\n",
            "Epoch 11/20\n",
            "100/100 [==============================] - 35s 348ms/step - loss: 0.0575 - accuracy: 0.9666 - val_loss: 5.5522 - val_accuracy: 0.3586\n",
            "Epoch 12/20\n",
            "100/100 [==============================] - 35s 349ms/step - loss: 0.0572 - accuracy: 0.9666 - val_loss: 4.9111 - val_accuracy: 0.3904\n",
            "Epoch 13/20\n",
            "100/100 [==============================] - 35s 346ms/step - loss: 0.0605 - accuracy: 0.9641 - val_loss: 5.7571 - val_accuracy: 0.3591\n",
            "Epoch 14/20\n",
            "100/100 [==============================] - 35s 347ms/step - loss: 0.0578 - accuracy: 0.9666 - val_loss: 6.6145 - val_accuracy: 0.3755\n",
            "Epoch 15/20\n",
            "100/100 [==============================] - 35s 350ms/step - loss: 0.0560 - accuracy: 0.9662 - val_loss: 6.4133 - val_accuracy: 0.3745\n",
            "Epoch 16/20\n",
            "100/100 [==============================] - 35s 348ms/step - loss: 0.0565 - accuracy: 0.9652 - val_loss: 5.7269 - val_accuracy: 0.3914\n",
            "Epoch 17/20\n",
            "100/100 [==============================] - 35s 348ms/step - loss: 0.0563 - accuracy: 0.9624 - val_loss: 5.6722 - val_accuracy: 0.3591\n",
            "Epoch 18/20\n",
            "100/100 [==============================] - 35s 347ms/step - loss: 0.0559 - accuracy: 0.9659 - val_loss: 5.9771 - val_accuracy: 0.3755\n",
            "Epoch 19/20\n",
            "100/100 [==============================] - 35s 346ms/step - loss: 0.0549 - accuracy: 0.9679 - val_loss: 6.1193 - val_accuracy: 0.3576\n",
            "Epoch 20/20\n",
            "100/100 [==============================] - 35s 350ms/step - loss: 0.0548 - accuracy: 0.9666 - val_loss: 5.7992 - val_accuracy: 0.3611\n"
          ],
          "name": "stdout"
        },
        {
          "output_type": "execute_result",
          "data": {
            "text/plain": [
              "<keras.callbacks.callbacks.History at 0x7f15164a1080>"
            ]
          },
          "metadata": {
            "tags": []
          },
          "execution_count": 38
        }
      ]
    },
    {
      "cell_type": "code",
      "metadata": {
        "id": "RYqQ7n_m6j0I",
        "colab_type": "code",
        "colab": {}
      },
      "source": [
        ""
      ],
      "execution_count": 0,
      "outputs": []
    }
  ]
}